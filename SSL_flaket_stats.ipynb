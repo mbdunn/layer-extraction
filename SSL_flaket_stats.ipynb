{
 "cells": [
  {
   "cell_type": "code",
   "execution_count": 1,
   "id": "7b82728b",
   "metadata": {},
   "outputs": [],
   "source": [
    "import glob\n",
    "import datetime \n",
    "import xarray as xr\n",
    "import numpy as np\n",
    "import seaborn as sns\n",
    "import pandas as pd\n",
    "import matplotlib.pyplot as plt\n",
    "import matplotlib.dates as mdates"
   ]
  },
  {
   "cell_type": "code",
   "execution_count": 2,
   "id": "48f9c026",
   "metadata": {},
   "outputs": [],
   "source": [
    "sns.set_theme(style=\"whitegrid\")\n",
    "sns.color_palette(\"viridis\", as_cmap=True)\n",
    "title_font = {\n",
    "    'fontname': 'DejaVu Sans', 'size': '15', 'color': 'black',\n",
    "    'weight': 'medium'\n",
    "}\n",
    "axis_font = {'fontname': 'DejaVu Sans', 'size': '15', 'color': 'black'}"
   ]
  },
  {
   "cell_type": "markdown",
   "id": "4e7ebe02",
   "metadata": {},
   "source": [
    "# Set up list of netcdf file with ssl info"
   ]
  },
  {
   "cell_type": "code",
   "execution_count": 2,
   "id": "91fd1835",
   "metadata": {},
   "outputs": [],
   "source": [
    "flist = glob.glob('F:GLIDER2018/Echosounder/Echosounder/nc_files/*-ssl.nc')"
   ]
  },
  {
   "cell_type": "code",
   "execution_count": 40,
   "id": "e0135079",
   "metadata": {
    "scrolled": true
   },
   "outputs": [
    {
     "name": "stdout",
     "output_type": "stream",
     "text": [
      "F:GLIDER2018/Echosounder/Echosounder/nc_files\\GLIDER_SB_2018_v5-Phase0-D20180621-T080104-0-ssl.nc\n",
      "F:GLIDER2018/Echosounder/Echosounder/nc_files\\GLIDER_SB_2018_v5-Phase0-D20180621-T080656-1-ssl.nc\n",
      "F:GLIDER2018/Echosounder/Echosounder/nc_files\\GLIDER_SB_2018_v5-Phase0-D20180621-T081247-2-ssl.nc\n",
      "F:GLIDER2018/Echosounder/Echosounder/nc_files\\GLIDER_SB_2018_v5-Phase0-D20180621-T083701-1-ssl.nc\n",
      "F:GLIDER2018/Echosounder/Echosounder/nc_files\\GLIDER_SB_2018_v5-Phase0-D20180621-T084252-2-ssl.nc\n",
      "F:GLIDER2018/Echosounder/Echosounder/nc_files\\GLIDER_SB_2018_v5-Phase0-D20180621-T090109-0-ssl.nc\n",
      "F:GLIDER2018/Echosounder/Echosounder/nc_files\\GLIDER_SB_2018_v5-Phase0-D20180621-T103109-0-ssl.nc\n",
      "F:GLIDER2018/Echosounder/Echosounder/nc_files\\GLIDER_SB_2018_v5-Phase0-D20180621-T103701-1-ssl.nc\n",
      "F:GLIDER2018/Echosounder/Echosounder/nc_files\\GLIDER_SB_2018_v5-Phase0-D20180621-T104252-2-ssl.nc\n",
      "F:GLIDER2018/Echosounder/Echosounder/nc_files\\GLIDER_SB_2018_v5-Phase0-D20180621-T110109-0-ssl.nc\n",
      "F:GLIDER2018/Echosounder/Echosounder/nc_files\\GLIDER_SB_2018_v5-Phase0-D20180621-T110701-1-ssl.nc\n",
      "F:GLIDER2018/Echosounder/Echosounder/nc_files\\GLIDER_SB_2018_v5-Phase0-D20180621-T111252-2-ssl.nc\n",
      "F:GLIDER2018/Echosounder/Echosounder/nc_files\\GLIDER_SB_2018_v5-Phase0-D20180621-T113109-0-ssl.nc\n",
      "F:GLIDER2018/Echosounder/Echosounder/nc_files\\GLIDER_SB_2018_v5-Phase0-D20180621-T113705-1-ssl.nc\n",
      "F:GLIDER2018/Echosounder/Echosounder/nc_files\\GLIDER_SB_2018_v5-Phase0-D20180621-T114300-2-ssl.nc\n",
      "F:GLIDER2018/Echosounder/Echosounder/nc_files\\GLIDER_SB_2018_v5-Phase0-D20180621-T133109-0-ssl.nc\n",
      "F:GLIDER2018/Echosounder/Echosounder/nc_files\\GLIDER_SB_2018_v5-Phase0-D20180621-T140108-0-ssl.nc\n",
      "F:GLIDER2018/Echosounder/Echosounder/nc_files\\GLIDER_SB_2018_v5-Phase0-D20180621-T160717-1-ssl.nc\n",
      "F:GLIDER2018/Echosounder/Echosounder/nc_files\\GLIDER_SB_2018_v5-Phase0-D20180621-T161309-2-ssl.nc\n",
      "F:GLIDER2018/Echosounder/Echosounder/nc_files\\GLIDER_SB_2018_v5-Phase0-D20180621-T180701-1-ssl.nc\n",
      "F:GLIDER2018/Echosounder/Echosounder/nc_files\\GLIDER_SB_2018_v5-Phase0-D20180621-T181252-2-ssl.nc\n",
      "F:GLIDER2018/Echosounder/Echosounder/nc_files\\GLIDER_SB_2018_v5-Phase0-D20180621-T183109-0-ssl.nc\n",
      "F:GLIDER2018/Echosounder/Echosounder/nc_files\\GLIDER_SB_2018_v5-Phase0-D20180621-T183701-1-ssl.nc\n",
      "F:GLIDER2018/Echosounder/Echosounder/nc_files\\GLIDER_SB_2018_v5-Phase0-D20180621-T184252-2-ssl.nc\n",
      "F:GLIDER2018/Echosounder/Echosounder/nc_files\\GLIDER_SB_2018_v5-Phase0-D20180621-T191252-2-ssl.nc\n",
      "F:GLIDER2018/Echosounder/Echosounder/nc_files\\GLIDER_SB_2018_v5-Phase0-D20180621-T193125-0-ssl.nc\n",
      "F:GLIDER2018/Echosounder/Echosounder/nc_files\\GLIDER_SB_2018_v5-Phase0-D20180621-T193717-1-ssl.nc\n",
      "F:GLIDER2018/Echosounder/Echosounder/nc_files\\GLIDER_SB_2018_v5-Phase0-D20180621-T194308-2-ssl.nc\n",
      "F:GLIDER2018/Echosounder/Echosounder/nc_files\\GLIDER_SB_2018_v5-Phase0-D20180621-T200109-0-ssl.nc\n",
      "F:GLIDER2018/Echosounder/Echosounder/nc_files\\GLIDER_SB_2018_v5-Phase0-D20180621-T203109-0-ssl.nc\n",
      "F:GLIDER2018/Echosounder/Echosounder/nc_files\\GLIDER_SB_2018_v5-Phase0-D20180621-T203701-1-ssl.nc\n",
      "F:GLIDER2018/Echosounder/Echosounder/nc_files\\GLIDER_SB_2018_v5-Phase0-D20180621-T204252-2-ssl.nc\n",
      "F:GLIDER2018/Echosounder/Echosounder/nc_files\\GLIDER_SB_2018_v5-Phase0-D20180621-T210109-0-ssl.nc\n",
      "F:GLIDER2018/Echosounder/Echosounder/nc_files\\GLIDER_SB_2018_v5-Phase0-D20180621-T210701-1-ssl.nc\n",
      "F:GLIDER2018/Echosounder/Echosounder/nc_files\\GLIDER_SB_2018_v5-Phase0-D20180621-T213111-0-ssl.nc\n",
      "F:GLIDER2018/Echosounder/Echosounder/nc_files\\GLIDER_SB_2018_v5-Phase0-D20180621-T213703-1-ssl.nc\n",
      "F:GLIDER2018/Echosounder/Echosounder/nc_files\\GLIDER_SB_2018_v5-Phase0-D20180621-T214254-2-ssl.nc\n",
      "F:GLIDER2018/Echosounder/Echosounder/nc_files\\GLIDER_SB_2018_v5-Phase0-D20180621-T220717-1-ssl.nc\n",
      "F:GLIDER2018/Echosounder/Echosounder/nc_files\\GLIDER_SB_2018_v5-Phase0-D20180621-T221308-2-ssl.nc\n",
      "F:GLIDER2018/Echosounder/Echosounder/nc_files\\GLIDER_SB_2018_v5-Phase0-D20180621-T223109-0-ssl.nc\n",
      "F:GLIDER2018/Echosounder/Echosounder/nc_files\\GLIDER_SB_2018_v5-Phase0-D20180621-T223701-1-ssl.nc\n",
      "F:GLIDER2018/Echosounder/Echosounder/nc_files\\GLIDER_SB_2018_v5-Phase0-D20180624-T211251-2-ssl.nc\n",
      "F:GLIDER2018/Echosounder/Echosounder/nc_files\\GLIDER_SB_2018_v5-Phase0-D20180624-T221256-2-ssl.nc\n",
      "F:GLIDER2018/Echosounder/Echosounder/nc_files\\GLIDER_SB_2018_v5-Phase0-D20180624-T223107-0-ssl.nc\n",
      "F:GLIDER2018/Echosounder/Echosounder/nc_files\\GLIDER_SB_2018_v5-Phase0-D20180624-T230106-0-ssl.nc\n",
      "F:GLIDER2018/Echosounder/Echosounder/nc_files\\GLIDER_SB_2018_v5-Phase0-D20180624-T230658-1-ssl.nc\n",
      "F:GLIDER2018/Echosounder/Echosounder/nc_files\\GLIDER_SB_2018_v5-Phase0-D20180624-T233123-0-ssl.nc\n",
      "F:GLIDER2018/Echosounder/Echosounder/nc_files\\GLIDER_SB_2018_v5-Phase0-D20180624-T233715-1-ssl.nc\n",
      "F:GLIDER2018/Echosounder/Echosounder/nc_files\\GLIDER_SB_2018_v5-Phase0-D20180624-T234310-2-ssl.nc\n",
      "F:GLIDER2018/Echosounder/Echosounder/nc_files\\GLIDER_SB_2018_v5-Phase0-D20180625-T000107-0-ssl.nc\n",
      "F:GLIDER2018/Echosounder/Echosounder/nc_files\\GLIDER_SB_2018_v5-Phase0-D20180625-T000659-1-ssl.nc\n",
      "F:GLIDER2018/Echosounder/Echosounder/nc_files\\GLIDER_SB_2018_v5-Phase0-D20180625-T001253-2-ssl.nc\n",
      "F:GLIDER2018/Echosounder/Echosounder/nc_files\\GLIDER_SB_2018_v5-Phase0-D20180625-T003658-1-ssl.nc\n",
      "F:GLIDER2018/Echosounder/Echosounder/nc_files\\GLIDER_SB_2018_v5-Phase0-D20180625-T020123-0-ssl.nc\n",
      "F:GLIDER2018/Echosounder/Echosounder/nc_files\\GLIDER_SB_2018_v5-Phase0-D20180625-T023107-0-ssl.nc\n",
      "F:GLIDER2018/Echosounder/Echosounder/nc_files\\GLIDER_SB_2018_v5-Phase0-D20180625-T024254-2-ssl.nc\n",
      "F:GLIDER2018/Echosounder/Echosounder/nc_files\\GLIDER_SB_2018_v5-Phase0-D20180625-T033107-0-ssl.nc\n",
      "F:GLIDER2018/Echosounder/Echosounder/nc_files\\GLIDER_SB_2018_v5-Phase0-D20180625-T033659-1-ssl.nc\n",
      "F:GLIDER2018/Echosounder/Echosounder/nc_files\\GLIDER_SB_2018_v5-Phase0-D20180625-T034254-2-ssl.nc\n",
      "F:GLIDER2018/Echosounder/Echosounder/nc_files\\GLIDER_SB_2018_v5-Phase0-D20180625-T040658-1-ssl.nc\n",
      "F:GLIDER2018/Echosounder/Echosounder/nc_files\\GLIDER_SB_2018_v5-Phase0-D20180625-T041253-2-ssl.nc\n",
      "F:GLIDER2018/Echosounder/Echosounder/nc_files\\GLIDER_SB_2018_v5-Phase0-D20180625-T050106-0-ssl.nc\n",
      "F:GLIDER2018/Echosounder/Echosounder/nc_files\\GLIDER_SB_2018_v5-Phase0-D20180625-T050658-1-ssl.nc\n",
      "F:GLIDER2018/Echosounder/Echosounder/nc_files\\GLIDER_SB_2018_v5-Phase0-D20180625-T051253-2-ssl.nc\n",
      "F:GLIDER2018/Echosounder/Echosounder/nc_files\\GLIDER_SB_2018_v5-Phase0-D20180625-T054249-2-ssl.nc\n",
      "F:GLIDER2018/Echosounder/Echosounder/nc_files\\GLIDER_SB_2018_v5-Phase0-D20180625-T060122-0-ssl.nc\n",
      "F:GLIDER2018/Echosounder/Echosounder/nc_files\\GLIDER_SB_2018_v5-Phase0-D20180625-T061305-2-ssl.nc\n",
      "F:GLIDER2018/Echosounder/Echosounder/nc_files\\GLIDER_SB_2018_v5-Phase0-D20180625-T063106-0-ssl.nc\n",
      "F:GLIDER2018/Echosounder/Echosounder/nc_files\\GLIDER_SB_2018_v5-Phase0-D20180625-T063658-1-ssl.nc\n",
      "F:GLIDER2018/Echosounder/Echosounder/nc_files\\GLIDER_SB_2018_v5-Phase0-D20180625-T064249-2-ssl.nc\n",
      "F:GLIDER2018/Echosounder/Echosounder/nc_files\\GLIDER_SB_2018_v5-Phase0-D20180625-T070107-0-ssl.nc\n",
      "F:GLIDER2018/Echosounder/Echosounder/nc_files\\GLIDER_SB_2018_v5-Phase0-D20180625-T070659-1-ssl.nc\n",
      "F:GLIDER2018/Echosounder/Echosounder/nc_files\\GLIDER_SB_2018_v5-Phase0-D20180625-T071250-2-ssl.nc\n",
      "F:GLIDER2018/Echosounder/Echosounder/nc_files\\GLIDER_SB_2018_v5-Phase0-D20180625-T073107-0-ssl.nc\n",
      "F:GLIDER2018/Echosounder/Echosounder/nc_files\\GLIDER_SB_2018_v5-Phase0-D20180625-T073659-1-ssl.nc\n",
      "F:GLIDER2018/Echosounder/Echosounder/nc_files\\GLIDER_SB_2018_v5-Phase0-D20180625-T080107-0-ssl.nc\n",
      "F:GLIDER2018/Echosounder/Echosounder/nc_files\\GLIDER_SB_2018_v5-Phase0-D20180625-T080659-1-ssl.nc\n",
      "F:GLIDER2018/Echosounder/Echosounder/nc_files\\GLIDER_SB_2018_v5-Phase0-D20180625-T081250-2-ssl.nc\n",
      "F:GLIDER2018/Echosounder/Echosounder/nc_files\\GLIDER_SB_2018_v5-Phase0-D20180625-T083107-0-ssl.nc\n",
      "F:GLIDER2018/Echosounder/Echosounder/nc_files\\GLIDER_SB_2018_v5-Phase0-D20180625-T083659-1-ssl.nc\n",
      "F:GLIDER2018/Echosounder/Echosounder/nc_files\\GLIDER_SB_2018_v5-Phase0-D20180625-T084250-2-ssl.nc\n",
      "F:GLIDER2018/Echosounder/Echosounder/nc_files\\GLIDER_SB_2018_v5-Phase0-D20180625-T090126-0-ssl.nc\n",
      "F:GLIDER2018/Echosounder/Echosounder/nc_files\\GLIDER_SB_2018_v5-Phase0-D20180625-T090718-1-ssl.nc\n",
      "F:GLIDER2018/Echosounder/Echosounder/nc_files\\GLIDER_SB_2018_v5-Phase0-D20180625-T091309-2-ssl.nc\n"
     ]
    },
    {
     "name": "stdout",
     "output_type": "stream",
     "text": [
      "F:GLIDER2018/Echosounder/Echosounder/nc_files\\GLIDER_SB_2018_v5-Phase0-D20180625-T093107-0-ssl.nc\n",
      "F:GLIDER2018/Echosounder/Echosounder/nc_files\\GLIDER_SB_2018_v5-Phase0-D20180625-T093659-1-ssl.nc\n",
      "F:GLIDER2018/Echosounder/Echosounder/nc_files\\GLIDER_SB_2018_v5-Phase0-D20180625-T094250-2-ssl.nc\n",
      "F:GLIDER2018/Echosounder/Echosounder/nc_files\\GLIDER_SB_2018_v5-Phase0-D20180625-T100107-0-ssl.nc\n",
      "F:GLIDER2018/Echosounder/Echosounder/nc_files\\GLIDER_SB_2018_v5-Phase0-D20180625-T100659-1-ssl.nc\n",
      "F:GLIDER2018/Echosounder/Echosounder/nc_files\\GLIDER_SB_2018_v5-Phase0-D20180625-T101250-2-ssl.nc\n",
      "F:GLIDER2018/Echosounder/Echosounder/nc_files\\GLIDER_SB_2018_v5-Phase0-D20180625-T103107-0-ssl.nc\n",
      "F:GLIDER2018/Echosounder/Echosounder/nc_files\\GLIDER_SB_2018_v5-Phase0-D20180625-T103659-1-ssl.nc\n",
      "F:GLIDER2018/Echosounder/Echosounder/nc_files\\GLIDER_SB_2018_v5-Phase0-D20180625-T104250-2-ssl.nc\n",
      "F:GLIDER2018/Echosounder/Echosounder/nc_files\\GLIDER_SB_2018_v5-Phase0-D20180625-T110659-1-ssl.nc\n",
      "F:GLIDER2018/Echosounder/Echosounder/nc_files\\GLIDER_SB_2018_v5-Phase0-D20180625-T111254-2-ssl.nc\n",
      "F:GLIDER2018/Echosounder/Echosounder/nc_files\\GLIDER_SB_2018_v5-Phase0-D20180625-T113106-0-ssl.nc\n",
      "F:GLIDER2018/Echosounder/Echosounder/nc_files\\GLIDER_SB_2018_v5-Phase0-D20180625-T113658-1-ssl.nc\n",
      "F:GLIDER2018/Echosounder/Echosounder/nc_files\\GLIDER_SB_2018_v5-Phase0-D20180625-T114255-2-ssl.nc\n",
      "F:GLIDER2018/Echosounder/Echosounder/nc_files\\GLIDER_SB_2018_v5-Phase0-D20180625-T120123-0-ssl.nc\n",
      "F:GLIDER2018/Echosounder/Echosounder/nc_files\\GLIDER_SB_2018_v5-Phase0-D20180625-T120715-1-ssl.nc\n",
      "F:GLIDER2018/Echosounder/Echosounder/nc_files\\GLIDER_SB_2018_v5-Phase0-D20180625-T121306-2-ssl.nc\n",
      "F:GLIDER2018/Echosounder/Echosounder/nc_files\\GLIDER_SB_2018_v5-Phase0-D20180625-T123106-0-ssl.nc\n",
      "F:GLIDER2018/Echosounder/Echosounder/nc_files\\GLIDER_SB_2018_v5-Phase0-D20180625-T130659-1-ssl.nc\n",
      "F:GLIDER2018/Echosounder/Echosounder/nc_files\\GLIDER_SB_2018_v5-Phase0-D20180625-T133110-0-ssl.nc\n",
      "F:GLIDER2018/Echosounder/Echosounder/nc_files\\GLIDER_SB_2018_v5-Phase0-D20180625-T133702-1-ssl.nc\n",
      "F:GLIDER2018/Echosounder/Echosounder/nc_files\\GLIDER_SB_2018_v5-Phase0-D20180625-T140107-0-ssl.nc\n",
      "F:GLIDER2018/Echosounder/Echosounder/nc_files\\GLIDER_SB_2018_v5-Phase0-D20180625-T140659-1-ssl.nc\n",
      "F:GLIDER2018/Echosounder/Echosounder/nc_files\\GLIDER_SB_2018_v5-Phase0-D20180625-T153107-0-ssl.nc\n",
      "F:GLIDER2018/Echosounder/Echosounder/nc_files\\GLIDER_SB_2018_v5-Phase0-D20180625-T163708-1-ssl.nc\n",
      "F:GLIDER2018/Echosounder/Echosounder/nc_files\\GLIDER_SB_2018_v5-Phase0-D20180625-T164258-2-ssl.nc\n",
      "F:GLIDER2018/Echosounder/Echosounder/nc_files\\GLIDER_SB_2018_v5-Phase0-D20180625-T170106-0-ssl.nc\n",
      "F:GLIDER2018/Echosounder/Echosounder/nc_files\\GLIDER_SB_2018_v5-Phase0-D20180625-T170658-1-ssl.nc\n",
      "F:GLIDER2018/Echosounder/Echosounder/nc_files\\GLIDER_SB_2018_v5-Phase0-D20180625-T173106-0-ssl.nc\n",
      "F:GLIDER2018/Echosounder/Echosounder/nc_files\\GLIDER_SB_2018_v5-Phase0-D20180625-T173658-1-ssl.nc\n",
      "F:GLIDER2018/Echosounder/Echosounder/nc_files\\GLIDER_SB_2018_v5-Phase0-D20180625-T180123-0-ssl.nc\n",
      "F:GLIDER2018/Echosounder/Echosounder/nc_files\\GLIDER_SB_2018_v5-Phase0-D20180625-T180715-1-ssl.nc\n",
      "F:GLIDER2018/Echosounder/Echosounder/nc_files\\GLIDER_SB_2018_v5-Phase0-D20180625-T181310-2-ssl.nc\n",
      "F:GLIDER2018/Echosounder/Echosounder/nc_files\\GLIDER_SB_2018_v5-Phase0-D20180625-T183106-0-ssl.nc\n",
      "F:GLIDER2018/Echosounder/Echosounder/nc_files\\GLIDER_SB_2018_v5-Phase0-D20180625-T190106-0-ssl.nc\n",
      "F:GLIDER2018/Echosounder/Echosounder/nc_files\\GLIDER_SB_2018_v5-Phase0-D20180625-T193108-0-ssl.nc\n",
      "F:GLIDER2018/Echosounder/Echosounder/nc_files\\GLIDER_SB_2018_v5-Phase0-D20180625-T200106-0-ssl.nc\n",
      "F:GLIDER2018/Echosounder/Echosounder/nc_files\\GLIDER_SB_2018_v5-Phase0-D20180625-T210108-0-ssl.nc\n",
      "F:GLIDER2018/Echosounder/Echosounder/nc_files\\GLIDER_SB_2018_v5-Phase0-D20180625-T213108-0-ssl.nc\n",
      "F:GLIDER2018/Echosounder/Echosounder/nc_files\\GLIDER_SB_2018_v5-Phase0-D20180625-T220124-0-ssl.nc\n",
      "F:GLIDER2018/Echosounder/Echosounder/nc_files\\GLIDER_SB_2018_v5-Phase0-D20180625-T223107-0-ssl.nc\n",
      "F:GLIDER2018/Echosounder/Echosounder/nc_files\\GLIDER_SB_2018_v5-Phase0-D20180625-T230107-0-ssl.nc\n",
      "F:GLIDER2018/Echosounder/Echosounder/nc_files\\GLIDER_SB_2018_v5-Phase0-D20180625-T233107-0-ssl.nc\n",
      "F:GLIDER2018/Echosounder/Echosounder/nc_files\\GLIDER_SB_2018_v5-Phase0-D20180626-T000107-0-ssl.nc\n",
      "F:GLIDER2018/Echosounder/Echosounder/nc_files\\GLIDER_SB_2018_v5-Phase0-D20180626-T003106-0-ssl.nc\n",
      "F:GLIDER2018/Echosounder/Echosounder/nc_files\\GLIDER_SB_2018_v5-Phase0-D20180626-T010110-0-ssl.nc\n",
      "F:GLIDER2018/Echosounder/Echosounder/nc_files\\GLIDER_SB_2018_v5-Phase0-D20180626-T013124-0-ssl.nc\n",
      "F:GLIDER2018/Echosounder/Echosounder/nc_files\\GLIDER_SB_2018_v5-Phase0-D20180626-T020108-0-ssl.nc\n",
      "F:GLIDER2018/Echosounder/Echosounder/nc_files\\GLIDER_SB_2018_v5-Phase0-D20180626-T023107-0-ssl.nc\n",
      "F:GLIDER2018/Echosounder/Echosounder/nc_files\\GLIDER_SB_2018_v5-Phase0-D20180626-T030106-0-ssl.nc\n",
      "F:GLIDER2018/Echosounder/Echosounder/nc_files\\GLIDER_SB_2018_v5-Phase0-D20180626-T033108-0-ssl.nc\n",
      "F:GLIDER2018/Echosounder/Echosounder/nc_files\\GLIDER_SB_2018_v5-Phase0-D20180626-T040122-0-ssl.nc\n",
      "F:GLIDER2018/Echosounder/Echosounder/nc_files\\GLIDER_SB_2018_v5-Phase0-D20180626-T043108-0-ssl.nc\n",
      "F:GLIDER2018/Echosounder/Echosounder/nc_files\\GLIDER_SB_2018_v5-Phase0-D20180626-T050108-0-ssl.nc\n",
      "F:GLIDER2018/Echosounder/Echosounder/nc_files\\GLIDER_SB_2018_v5-Phase0-D20180626-T053123-0-ssl.nc\n",
      "F:GLIDER2018/Echosounder/Echosounder/nc_files\\GLIDER_SB_2018_v5-Phase0-D20180626-T060132-0-ssl.nc\n",
      "F:GLIDER2018/Echosounder/Echosounder/nc_files\\GLIDER_SB_2018_v5-Phase0-D20180626-T063108-0-ssl.nc\n",
      "F:GLIDER2018/Echosounder/Echosounder/nc_files\\GLIDER_SB_2018_v5-Phase0-D20180626-T070108-0-ssl.nc\n",
      "F:GLIDER2018/Echosounder/Echosounder/nc_files\\GLIDER_SB_2018_v5-Phase0-D20180626-T073107-0-ssl.nc\n",
      "F:GLIDER2018/Echosounder/Echosounder/nc_files\\GLIDER_SB_2018_v5-Phase0-D20180626-T080106-0-ssl.nc\n",
      "F:GLIDER2018/Echosounder/Echosounder/nc_files\\GLIDER_SB_2018_v5-Phase0-D20180626-T083108-0-ssl.nc\n",
      "F:GLIDER2018/Echosounder/Echosounder/nc_files\\GLIDER_SB_2018_v5-Phase0-D20180626-T090123-0-ssl.nc\n",
      "F:GLIDER2018/Echosounder/Echosounder/nc_files\\GLIDER_SB_2018_v5-Phase0-D20180626-T093107-0-ssl.nc\n",
      "F:GLIDER2018/Echosounder/Echosounder/nc_files\\GLIDER_SB_2018_v5-Phase0-D20180626-T100106-0-ssl.nc\n",
      "F:GLIDER2018/Echosounder/Echosounder/nc_files\\GLIDER_SB_2018_v5-Phase0-D20180626-T103108-0-ssl.nc\n",
      "F:GLIDER2018/Echosounder/Echosounder/nc_files\\GLIDER_SB_2018_v5-Phase0-D20180626-T110108-0-ssl.nc\n",
      "F:GLIDER2018/Echosounder/Echosounder/nc_files\\GLIDER_SB_2018_v5-Phase0-D20180626-T113107-0-ssl.nc\n",
      "F:GLIDER2018/Echosounder/Echosounder/nc_files\\GLIDER_SB_2018_v5-Phase0-D20180626-T120146-0-ssl.nc\n",
      "F:GLIDER2018/Echosounder/Echosounder/nc_files\\GLIDER_SB_2018_v5-Phase0-D20180626-T123106-0-ssl.nc\n",
      "F:GLIDER2018/Echosounder/Echosounder/nc_files\\GLIDER_SB_2018_v5-Phase0-D20180626-T130108-0-ssl.nc\n",
      "F:GLIDER2018/Echosounder/Echosounder/nc_files\\GLIDER_SB_2018_v5-Phase0-D20180626-T133106-0-ssl.nc\n",
      "F:GLIDER2018/Echosounder/Echosounder/nc_files\\GLIDER_SB_2018_v5-Phase0-D20180626-T140108-0-ssl.nc\n",
      "F:GLIDER2018/Echosounder/Echosounder/nc_files\\GLIDER_SB_2018_v5-Phase0-D20180626-T143106-0-ssl.nc\n",
      "F:GLIDER2018/Echosounder/Echosounder/nc_files\\GLIDER_SB_2018_v5-Phase0-D20180626-T150123-0-ssl.nc\n",
      "F:GLIDER2018/Echosounder/Echosounder/nc_files\\GLIDER_SB_2018_v5-Phase0-D20180626-T153106-0-ssl.nc\n",
      "F:GLIDER2018/Echosounder/Echosounder/nc_files\\GLIDER_SB_2018_v5-Phase0-D20180626-T160106-0-ssl.nc\n",
      "F:GLIDER2018/Echosounder/Echosounder/nc_files\\GLIDER_SB_2018_v5-Phase0-D20180626-T163106-0-ssl.nc\n",
      "F:GLIDER2018/Echosounder/Echosounder/nc_files\\GLIDER_SB_2018_v5-Phase0-D20180626-T170108-0-ssl.nc\n",
      "F:GLIDER2018/Echosounder/Echosounder/nc_files\\GLIDER_SB_2018_v5-Phase0-D20180626-T193108-0-ssl.nc\n",
      "F:GLIDER2018/Echosounder/Echosounder/nc_files\\GLIDER_SB_2018_v5-Phase0-D20180626-T200106-0-ssl.nc\n",
      "F:GLIDER2018/Echosounder/Echosounder/nc_files\\GLIDER_SB_2018_v5-Phase0-D20180626-T203118-0-ssl.nc\n",
      "F:GLIDER2018/Echosounder/Echosounder/nc_files\\GLIDER_SB_2018_v5-Phase0-D20180626-T210110-0-ssl.nc\n",
      "F:GLIDER2018/Echosounder/Echosounder/nc_files\\GLIDER_SB_2018_v5-Phase0-D20180626-T213147-0-ssl.nc\n",
      "F:GLIDER2018/Echosounder/Echosounder/nc_files\\GLIDER_SB_2018_v5-Phase0-D20180626-T220107-0-ssl.nc\n",
      "F:GLIDER2018/Echosounder/Echosounder/nc_files\\GLIDER_SB_2018_v5-Phase0-D20180626-T223108-0-ssl.nc\n",
      "F:GLIDER2018/Echosounder/Echosounder/nc_files\\GLIDER_SB_2018_v5-Phase0-D20180626-T230108-0-ssl.nc\n",
      "F:GLIDER2018/Echosounder/Echosounder/nc_files\\GLIDER_SB_2018_v5-Phase0-D20180626-T233106-0-ssl.nc\n"
     ]
    },
    {
     "name": "stdout",
     "output_type": "stream",
     "text": [
      "F:GLIDER2018/Echosounder/Echosounder/nc_files\\GLIDER_SB_2018_v5-Phase0-D20180627-T000124-0-ssl.nc\n",
      "F:GLIDER2018/Echosounder/Echosounder/nc_files\\GLIDER_SB_2018_v5-Phase0-D20180627-T003108-0-ssl.nc\n",
      "F:GLIDER2018/Echosounder/Echosounder/nc_files\\GLIDER_SB_2018_v5-Phase0-D20180627-T010112-0-ssl.nc\n",
      "F:GLIDER2018/Echosounder/Echosounder/nc_files\\GLIDER_SB_2018_v5-Phase0-D20180627-T013107-0-ssl.nc\n",
      "F:GLIDER2018/Echosounder/Echosounder/nc_files\\GLIDER_SB_2018_v5-Phase0-D20180627-T020107-0-ssl.nc\n",
      "F:GLIDER2018/Echosounder/Echosounder/nc_files\\GLIDER_SB_2018_v5-Phase0-D20180627-T023125-0-ssl.nc\n",
      "F:GLIDER2018/Echosounder/Echosounder/nc_files\\GLIDER_SB_2018_v5-Phase0-D20180627-T030106-0-ssl.nc\n",
      "F:GLIDER2018/Echosounder/Echosounder/nc_files\\GLIDER_SB_2018_v5-Phase0-D20180627-T033108-0-ssl.nc\n",
      "F:GLIDER2018/Echosounder/Echosounder/nc_files\\GLIDER_SB_2018_v5-Phase0-D20180627-T040124-0-ssl.nc\n",
      "F:GLIDER2018/Echosounder/Echosounder/nc_files\\GLIDER_SB_2018_v5-Phase0-D20180627-T043108-0-ssl.nc\n",
      "F:GLIDER2018/Echosounder/Echosounder/nc_files\\GLIDER_SB_2018_v5-Phase0-D20180627-T050106-0-ssl.nc\n",
      "F:GLIDER2018/Echosounder/Echosounder/nc_files\\GLIDER_SB_2018_v5-Phase0-D20180627-T053106-0-ssl.nc\n",
      "F:GLIDER2018/Echosounder/Echosounder/nc_files\\GLIDER_SB_2018_v5-Phase0-D20180627-T060107-0-ssl.nc\n",
      "F:GLIDER2018/Echosounder/Echosounder/nc_files\\GLIDER_SB_2018_v5-Phase0-D20180627-T063106-0-ssl.nc\n",
      "F:GLIDER2018/Echosounder/Echosounder/nc_files\\GLIDER_SB_2018_v5-Phase0-D20180627-T070150-0-ssl.nc\n",
      "F:GLIDER2018/Echosounder/Echosounder/nc_files\\GLIDER_SB_2018_v5-Phase0-D20180627-T073108-0-ssl.nc\n",
      "F:GLIDER2018/Echosounder/Echosounder/nc_files\\GLIDER_SB_2018_v5-Phase0-D20180627-T080106-0-ssl.nc\n",
      "F:GLIDER2018/Echosounder/Echosounder/nc_files\\GLIDER_SB_2018_v5-Phase0-D20180627-T083108-0-ssl.nc\n",
      "F:GLIDER2018/Echosounder/Echosounder/nc_files\\GLIDER_SB_2018_v5-Phase0-D20180627-T090109-0-ssl.nc\n",
      "F:GLIDER2018/Echosounder/Echosounder/nc_files\\GLIDER_SB_2018_v5-Phase0-D20180627-T100108-0-ssl.nc\n",
      "F:GLIDER2018/Echosounder/Echosounder/nc_files\\GLIDER_SB_2018_v5-Phase0-D20180627-T103106-0-ssl.nc\n",
      "F:GLIDER2018/Echosounder/Echosounder/nc_files\\GLIDER_SB_2018_v5-Phase0-D20180627-T110108-0-ssl.nc\n",
      "F:GLIDER2018/Echosounder/Echosounder/nc_files\\GLIDER_SB_2018_v5-Phase0-D20180627-T113106-0-ssl.nc\n",
      "F:GLIDER2018/Echosounder/Echosounder/nc_files\\GLIDER_SB_2018_v5-Phase0-D20180627-T120124-0-ssl.nc\n",
      "F:GLIDER2018/Echosounder/Echosounder/nc_files\\GLIDER_SB_2018_v5-Phase0-D20180627-T123108-0-ssl.nc\n",
      "F:GLIDER2018/Echosounder/Echosounder/nc_files\\GLIDER_SB_2018_v5-Phase0-D20180627-T130107-0-ssl.nc\n",
      "F:GLIDER2018/Echosounder/Echosounder/nc_files\\GLIDER_SB_2018_v5-Phase0-D20180627-T133107-0-ssl.nc\n",
      "F:GLIDER2018/Echosounder/Echosounder/nc_files\\GLIDER_SB_2018_v5-Phase0-D20180627-T140106-0-ssl.nc\n",
      "F:GLIDER2018/Echosounder/Echosounder/nc_files\\GLIDER_SB_2018_v5-Phase0-D20180627-T143124-0-ssl.nc\n",
      "F:GLIDER2018/Echosounder/Echosounder/nc_files\\GLIDER_SB_2018_v5-Phase0-D20180627-T150106-0-ssl.nc\n",
      "F:GLIDER2018/Echosounder/Echosounder/nc_files\\GLIDER_SB_2018_v5-Phase0-D20180627-T153108-0-ssl.nc\n",
      "F:GLIDER2018/Echosounder/Echosounder/nc_files\\GLIDER_SB_2018_v5-Phase0-D20180627-T160107-0-ssl.nc\n",
      "F:GLIDER2018/Echosounder/Echosounder/nc_files\\GLIDER_SB_2018_v5-Phase0-D20180627-T170106-0-ssl.nc\n",
      "F:GLIDER2018/Echosounder/Echosounder/nc_files\\GLIDER_SB_2018_v5-Phase0-D20180627-T180122-0-ssl.nc\n",
      "F:GLIDER2018/Echosounder/Echosounder/nc_files\\GLIDER_SB_2018_v5-Phase0-D20180627-T190108-0-ssl.nc\n",
      "F:GLIDER2018/Echosounder/Echosounder/nc_files\\GLIDER_SB_2018_v5-Phase0-D20180627-T200107-0-ssl.nc\n",
      "F:GLIDER2018/Echosounder/Echosounder/nc_files\\GLIDER_SB_2018_v5-Phase0-D20180627-T210107-0-ssl.nc\n",
      "F:GLIDER2018/Echosounder/Echosounder/nc_files\\GLIDER_SB_2018_v5-Phase0-D20180627-T230108-0-ssl.nc\n",
      "F:GLIDER2018/Echosounder/Echosounder/nc_files\\GLIDER_SB_2018_v5-Phase0-D20180628-T000108-0-ssl.nc\n",
      "F:GLIDER2018/Echosounder/Echosounder/nc_files\\GLIDER_SB_2018_v5-Phase0-D20180628-T080110-0-ssl.nc\n",
      "F:GLIDER2018/Echosounder/Echosounder/nc_files\\GLIDER_SB_2018_v5-Phase0-D20180628-T090108-0-ssl.nc\n",
      "F:GLIDER2018/Echosounder/Echosounder/nc_files\\GLIDER_SB_2018_v5-Phase0-D20180628-T100122-0-ssl.nc\n",
      "F:GLIDER2018/Echosounder/Echosounder/nc_files\\GLIDER_SB_2018_v5-Phase0-D20180628-T110108-0-ssl.nc\n",
      "F:GLIDER2018/Echosounder/Echosounder/nc_files\\GLIDER_SB_2018_v5-Phase0-D20180628-T140122-0-ssl.nc\n",
      "F:GLIDER2018/Echosounder/Echosounder/nc_files\\GLIDER_SB_2018_v5-Phase0-D20180629-T020106-0-ssl.nc\n",
      "F:GLIDER2018/Echosounder/Echosounder/nc_files\\GLIDER_SB_2018_v5-Phase0-D20180629-T040122-0-ssl.nc\n",
      "F:GLIDER2018/Echosounder/Echosounder/nc_files\\GLIDER_SB_2018_v5-Phase0-D20180629-T050106-0-ssl.nc\n",
      "F:GLIDER2018/Echosounder/Echosounder/nc_files\\GLIDER_SB_2018_v5-Phase0-D20180629-T060107-0-ssl.nc\n",
      "F:GLIDER2018/Echosounder/Echosounder/nc_files\\GLIDER_SB_2018_v5-Phase0-D20180629-T070124-0-ssl.nc\n",
      "F:GLIDER2018/Echosounder/Echosounder/nc_files\\GLIDER_SB_2018_v5-Phase0-D20180629-T080108-0-ssl.nc\n",
      "F:GLIDER2018/Echosounder/Echosounder/nc_files\\GLIDER_SB_2018_v5-Phase0-D20180629-T090108-0-ssl.nc\n",
      "F:GLIDER2018/Echosounder/Echosounder/nc_files\\GLIDER_SB_2018_v5-Phase0-D20180629-T110110-0-ssl.nc\n",
      "F:GLIDER2018/Echosounder/Echosounder/nc_files\\GLIDER_SB_2018_v5-Phase0-D20180629-T120107-0-ssl.nc\n"
     ]
    }
   ],
   "source": [
    "time_upper = np.array([],dtype='datetime64[s]')\n",
    "time_lower = np.array([],dtype='datetime64[s]')\n",
    "depth_upper = np.array([])\n",
    "depth_lower = np.array([])\n",
    "\n",
    "ind=-1\n",
    "\n",
    "for f_ind in range(len(flist)):\n",
    "    ind+=1\n",
    "    # Loop through all the -ssl.nc files\n",
    "    fname = flist[f_ind]\n",
    "    print(fname)\n",
    "    ssl_file = xr.open_dataset(fname)\n",
    "    \n",
    "\n",
    "    # Save upper SSL limit to .evl file\n",
    "    nlines = ssl_file.dims['ping_time']\n",
    "    for ind in range(nlines):\n",
    "        \n",
    "        if ~np.isnan(ssl_file.top_scattering_layer.values[ind]): # Skip nans\n",
    "            time_upper = np.append(time_upper, ssl_file.ping_time.values[ind])\n",
    "            depth_upper = np.append(depth_upper, ssl_file.range[:,ssl_file.top_scattering_layer.values[ind]==ssl_file.range_bin].values[0][0])\n",
    "            \n",
    "\n",
    "\n",
    "    # Save lower SSL limit to .evl file\n",
    "    nlines = ssl_file.dims['ping_time']\n",
    "    for ind in range(nlines):\n",
    "        if ~np.isnan(ssl_file.bottom_scattering_layer.values[ind]):\n",
    "            time_lower = np.append(time_lower, ssl_file.ping_time.values[ind])\n",
    "            depth_lower = np.append(depth_lower, ssl_file.range[:,ssl_file.bottom_scattering_layer.values[ind]==ssl_file.range_bin].values[0][0])\n",
    "    \n",
    "\n",
    "    \n",
    "    # Save entrained air SSL limit to .evl file\n",
    "    #if ssl_file.variables=='entrained_air':\n",
    "        #nlines = ssl_file.dims['ping_time'] \n",
    "        #for ind in range(nlines):\n",
    "            #if ~np.isnan(ssl_file.entrained_air.values[ind]):\n",
    "                #time = ssl_file.ping_time.dt.strftime(\"%Y%m%d %H%M%S%f\").values[ind][:-2]\n",
    "                #depth = str(ssl_file.range[:,ssl_file.entrained_air.values[ind]==ssl_file.range_bin].values[0][0])[0:8]"
   ]
  },
  {
   "cell_type": "code",
   "execution_count": 37,
   "id": "6587bc3c",
   "metadata": {},
   "outputs": [],
   "source": [
    "# Load from Echoview\n",
    "flist_up = glob.glob('F:GLIDER2018/Echosounder/TromsøflaketEV/*upper*.csv')\n",
    "flist_low = glob.glob('F:GLIDER2018/Echosounder/TromsøflaketEV/*lower*.csv')\n",
    "\n",
    "\n",
    "depth_upper = np.array([])\n",
    "depth_lower = np.array([])\n",
    "time_upper = np.array([], dtype='datetime64[s]')\n",
    "time_lower = np.array([], dtype='datetime64[s]')\n",
    "\n",
    "for ind in range(len(flist_up)):\n",
    "    line_file = pd.read_csv(flist_up[ind])\n",
    "    for t_ind in range(len(line_file)):\n",
    "        time_upper = np.append(time_upper, datetime.datetime.strptime(line_file['Depth_date'][t_ind] + ' '+line_file['Depth_time'][t_ind],'%Y-%m-%d %H:%M:%S'))\n",
    "    depth_upper = np.append(depth_upper, line_file['Depth_meters'])\n",
    "\n",
    "\n",
    "depth_lower = np.array([])\n",
    "for ind in range(len(flist_low)):\n",
    "    line_file = pd.read_csv(flist_low[ind])\n",
    "    for t_ind in range(len(line_file)):\n",
    "        time_lower = np.append(time_lower, datetime.datetime.strptime(line_file['Depth_date'][t_ind] + ' '+line_file['Depth_time'][t_ind],'%Y-%m-%d %H:%M:%S'))\n",
    "    depth_lower = np.append(depth_lower, line_file['Depth_meters'])\n"
   ]
  },
  {
   "cell_type": "code",
   "execution_count": 53,
   "id": "de31beb1",
   "metadata": {},
   "outputs": [],
   "source": [
    "datetime_upper = pd.to_datetime(time_upper)\n",
    "datetime_lower = pd.to_datetime(time_lower)"
   ]
  },
  {
   "cell_type": "markdown",
   "id": "1760deb3",
   "metadata": {},
   "source": [
    "## match upper layer to lower layer time steps"
   ]
  },
  {
   "cell_type": "code",
   "execution_count": 58,
   "id": "a3684941",
   "metadata": {},
   "outputs": [],
   "source": [
    "depth_upper_interp = np.interp(datetime_lower,datetime_upper,depth_upper)"
   ]
  },
  {
   "cell_type": "code",
   "execution_count": 59,
   "id": "1bc83230",
   "metadata": {},
   "outputs": [
    {
     "data": {
      "image/png": "[encoded data removed]",
      "text/plain": [
       "<Figure size 432x288 with 1 Axes>"
      ]
     },
     "metadata": {},
     "output_type": "display_data"
    }
   ],
   "source": [
    "fig, ax = plt.subplots()\n",
    "plt.plot(depth_upper_interp)\n",
    "plt.plot(time_lower, depth_lower)\n",
    "ax.invert_yaxis()\n",
    "                                    \n"
   ]
  },
  {
   "cell_type": "code",
   "execution_count": 60,
   "id": "2a57b976",
   "metadata": {},
   "outputs": [
    {
     "name": "stdout",
     "output_type": "stream",
     "text": [
      "1.0496099999999995 28.588458000000003 14.531928623973632\n"
     ]
    }
   ],
   "source": [
    "# Layer thickness\n",
    "thickness = depth_lower-depth_upper_interp\n",
    "print(np.min(thickness), np.max(thickness), np.mean(thickness))"
   ]
  },
  {
   "cell_type": "code",
   "execution_count": 71,
   "id": "09128312",
   "metadata": {},
   "outputs": [
    {
     "name": "stdout",
     "output_type": "stream",
     "text": [
      "10.81036 50.49975 27.868512793113165\n"
     ]
    }
   ],
   "source": [
    "# bottom\n",
    "print(np.min(depth_lower), np.max(depth_lower), np.mean(depth_lower))"
   ]
  },
  {
   "cell_type": "code",
   "execution_count": 72,
   "id": "74d55600",
   "metadata": {},
   "outputs": [
    {
     "name": "stdout",
     "output_type": "stream",
     "text": [
      "3.000572 39.86729 13.84746652485478\n"
     ]
    }
   ],
   "source": [
    "# top\n",
    "print(np.min(depth_upper_interp), np.max(depth_upper_interp), np.mean(depth_upper_interp))"
   ]
  },
  {
   "cell_type": "code",
   "execution_count": 61,
   "id": "b1f53e4f",
   "metadata": {},
   "outputs": [
    {
     "name": "stdout",
     "output_type": "stream",
     "text": [
      "20.602548481126348\n"
     ]
    }
   ],
   "source": [
    "# Mean depth\n",
    "m_depth = (depth_upper_interp+depth_lower)/2\n",
    "print(np.mean(m_depth))"
   ]
  },
  {
   "cell_type": "code",
   "execution_count": null,
   "id": "d9a48983",
   "metadata": {},
   "outputs": [],
   "source": []
  }
 ],
 "metadata": {
  "kernelspec": {
   "display_name": "Python 3 (ipykernel)",
   "language": "python",
   "name": "python3"
  },
  "language_info": {
   "codemirror_mode": {
    "name": "ipython",
    "version": 3
   },
   "file_extension": ".py",
   "mimetype": "text/x-python",
   "name": "python",
   "nbconvert_exporter": "python",
   "pygments_lexer": "ipython3",
   "version": "3.7.11"
  }
 },
 "nbformat": 4,
 "nbformat_minor": 5
}
