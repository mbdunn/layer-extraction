{
 "cells": [
  {
   "cell_type": "code",
   "execution_count": 2,
   "id": "bd3a1f58",
   "metadata": {},
   "outputs": [],
   "source": [
    "import glob\n",
    "import datetime \n",
    "import xarray as xr\n",
    "import numpy as np\n",
    "import pandas as pd\n",
    "import matplotlib.pyplot as plt"
   ]
  },
  {
   "cell_type": "markdown",
   "id": "a1929738",
   "metadata": {},
   "source": [
    "# Set up list of netcdf file with ssl info"
   ]
  },
  {
   "cell_type": "code",
   "execution_count": 3,
   "id": "7d25ec11",
   "metadata": {},
   "outputs": [],
   "source": [
    "flist = glob.glob('F:GLIDER2018/Echosounder/Echosounder/nc_files/*-ssl.nc')"
   ]
  },
  {
   "cell_type": "code",
   "execution_count": 6,
   "id": "7d86de8b",
   "metadata": {},
   "outputs": [],
   "source": []
  },
  {
   "cell_type": "code",
   "execution_count": 26,
   "id": "f973f0a4",
   "metadata": {},
   "outputs": [],
   "source": [
    "for f_ind in range(len(flist)):\n",
    "    # Loop through all the -ssl.nc files\n",
    "    fname = flist[f_ind]\n",
    "    ssl_file = xr.open_dataset(fname)\n",
    "    \n",
    "    # Save upper SSL limit to .evl file\n",
    "    file_up =  open(fname[:-3]+\"-upper.evl\", \"w+\")\n",
    "    nlines = ssl_file.dims['ping_time']\n",
    "    file_up.write('EVBD 3 12.1.27.43020 \\n') # Default header for EV ver 12.1\n",
    "    file_up.write(str(nlines)+'\\n')\n",
    "    for ind in range(nlines):\n",
    "        if ~np.isnan(ssl_file.top_scattering_layer.values[ind]): # Skip nans\n",
    "            time = ssl_file.ping_time.dt.strftime(\"%Y%m%d %H%M%S%f\").values[ind][:-2]\n",
    "            depth = str(ssl_file.range[:,ssl_file.top_scattering_layer.values[ind]==ssl_file.range_bin].values[0][0])[0:8]\n",
    "            file_up.writelines([time,' ',depth, ' 3','\\n'])\n",
    "    file_up.close()\n",
    "    \n",
    "    # Save lower SSL limit to .evl file\n",
    "    file_low =  open(fname[:-3]+\"-lower.evl\", \"w+\")\n",
    "    nlines = ssl_file.dims['ping_time']\n",
    "    file_low.write('EVBD 3 12.1.27.43020 \\n')\n",
    "    file_low.write(str(nlines)+'\\n')\n",
    "    for ind in range(nlines):\n",
    "        if ~np.isnan(ssl_file.bottom_scattering_layer.values[ind]):\n",
    "            time = ssl_file.ping_time.dt.strftime(\"%Y%m%d %H%M%S%f\").values[ind][:-2]\n",
    "            depth = str(ssl_file.range[:,ssl_file.bottom_scattering_layer.values[ind]==ssl_file.range_bin].values[0][0])[0:8]\n",
    "            file_low.writelines([time,' ',depth, ' 3','\\n'])\n",
    "    file_low.close()\n",
    "    \n",
    "    # Save entrained air SSL limit to .evl file\n",
    "    if ssl_file.variables=='entrained_air':\n",
    "        file_entrained =  open(fname[:-3]+\"-entrained.evl\", \"w+\")\n",
    "        nlines = ssl_file.dims['ping_time']\n",
    "        file_entrained.write('EVBD 3 12.1.27.43020 \\n')\n",
    "        file_entrained.write(str(nlines)+'\\n')\n",
    "        for ind in range(nlines):\n",
    "            if ~np.isnan(ssl_file.entrained_air.values[ind]):\n",
    "                time = ssl_file.ping_time.dt.strftime(\"%Y%m%d %H%M%S%f\").values[ind][:-2]\n",
    "                depth = str(ssl_file.range[:,ssl_file.entrained_air.values[ind]==ssl_file.range_bin].values[0][0])[0:8]\n",
    "                file_entrained.writelines([time,' ',depth, ' 3','\\n'])\n",
    "        file_entrained.close()"
   ]
  },
  {
   "cell_type": "code",
   "execution_count": null,
   "id": "75ee384d",
   "metadata": {},
   "outputs": [],
   "source": []
  }
 ],
 "metadata": {
  "kernelspec": {
   "display_name": "Python 3 (ipykernel)",
   "language": "python",
   "name": "python3"
  },
  "language_info": {
   "codemirror_mode": {
    "name": "ipython",
    "version": 3
   },
   "file_extension": ".py",
   "mimetype": "text/x-python",
   "name": "python",
   "nbconvert_exporter": "python",
   "pygments_lexer": "ipython3",
   "version": "3.7.11"
  }
 },
 "nbformat": 4,
 "nbformat_minor": 5
}
